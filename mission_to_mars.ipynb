{
 "cells": [
  {
   "cell_type": "code",
   "execution_count": 1,
   "id": "85d4232a",
   "metadata": {},
   "outputs": [],
   "source": [
    "# import dependences\n",
    "import pandas as pd\n",
    "import requests\n",
    "from splinter import Browser\n",
    "from bs4 import BeautifulSoup as bs\n",
    "from webdriver_manager.chrome import ChromeDriverManager"
   ]
  },
  {
   "cell_type": "code",
   "execution_count": 2,
   "id": "6c45d05d",
   "metadata": {},
   "outputs": [],
   "source": [
    "# Setup splinter\n",
    "executable_path = {'executable_path': ChromeDriverManager().install()}\n",
    "browser = Browser('chrome', **executable_path, headless=False)"
   ]
  },
  {
   "cell_type": "code",
   "execution_count": 3,
   "id": "583b03df",
   "metadata": {},
   "outputs": [],
   "source": [
    "# URL of page to be scraped\n",
    "url = \"https://redplanetscience.com/\"\n",
    "browser.visit(url)"
   ]
  },
  {
   "cell_type": "code",
   "execution_count": 4,
   "id": "16fb2b4f",
   "metadata": {},
   "outputs": [],
   "source": [
    "# Create a BeautifulSoup object; parse with 'html.parser'\n",
    "soup = bs(browser.html, \"html.parser\")"
   ]
  },
  {
   "cell_type": "code",
   "execution_count": 5,
   "id": "f2e729dd",
   "metadata": {},
   "outputs": [],
   "source": [
    "# Find the latest news title and it's teaser paragraph\n",
    "results = soup.find('div', {\"class\": \"list_text\"})\n",
    "\n",
    "latest_news_title = results.find(\"div\", {\"class\": \"content_title\"}).text\n",
    "\n",
    "latest_news_paragraph = results.find(\"div\", {\"class\": \"article_teaser_body\"}).text"
   ]
  },
  {
   "cell_type": "markdown",
   "id": "468db6be",
   "metadata": {},
   "source": [
    "# JPL Mars Space Images—Featured Image"
   ]
  },
  {
   "cell_type": "code",
   "execution_count": 6,
   "id": "001881e1",
   "metadata": {},
   "outputs": [],
   "source": [
    "# Select relavent page for broswer\n",
    "jpl_url = \"https://spaceimages-mars.com/\"\n",
    "browser.visit(jpl_url)"
   ]
  },
  {
   "cell_type": "code",
   "execution_count": 7,
   "id": "fef8364c",
   "metadata": {},
   "outputs": [],
   "source": [
    "# Navigate page to find full image of the featured picture\n",
    "browser.links.find_by_partial_text(\"FULL IMAGE\").click()"
   ]
  },
  {
   "cell_type": "code",
   "execution_count": 8,
   "id": "e02189cc",
   "metadata": {},
   "outputs": [],
   "source": [
    "# Retrieve html\n",
    "jpl_soup = bs(browser.html, \"html.parser\")"
   ]
  },
  {
   "cell_type": "code",
   "execution_count": 9,
   "id": "08fc49f0",
   "metadata": {},
   "outputs": [],
   "source": [
    "# Find full image\n",
    "jpl_results = jpl_soup.find(\"img\", {\"class\" : \"fancybox-image\"})"
   ]
  },
  {
   "cell_type": "code",
   "execution_count": 10,
   "id": "404a843b",
   "metadata": {},
   "outputs": [],
   "source": [
    "# Save full image url\n",
    "featured_image_url = jpl_url + jpl_results[\"src\"]"
   ]
  },
  {
   "cell_type": "markdown",
   "id": "a09f9795",
   "metadata": {},
   "source": [
    "# Mars Facts"
   ]
  },
  {
   "cell_type": "code",
   "execution_count": 11,
   "id": "a15f27c8",
   "metadata": {},
   "outputs": [],
   "source": [
    "# URL containing relavent tables\n",
    "mars_facts_url = \"https://galaxyfacts-mars.com/\"\n",
    "tables = pd.read_html(mars_facts_url)"
   ]
  },
  {
   "cell_type": "code",
   "execution_count": 12,
   "id": "7c854d60",
   "metadata": {},
   "outputs": [
    {
     "data": {
      "text/html": [
       "<div>\n",
       "<style scoped>\n",
       "    .dataframe tbody tr th:only-of-type {\n",
       "        vertical-align: middle;\n",
       "    }\n",
       "\n",
       "    .dataframe tbody tr th {\n",
       "        vertical-align: top;\n",
       "    }\n",
       "\n",
       "    .dataframe thead th {\n",
       "        text-align: right;\n",
       "    }\n",
       "</style>\n",
       "<table border=\"1\" class=\"dataframe\">\n",
       "  <thead>\n",
       "    <tr style=\"text-align: right;\">\n",
       "      <th></th>\n",
       "      <th>0</th>\n",
       "      <th>1</th>\n",
       "    </tr>\n",
       "  </thead>\n",
       "  <tbody>\n",
       "    <tr>\n",
       "      <th>0</th>\n",
       "      <td>Equatorial Diameter:</td>\n",
       "      <td>6,792 km</td>\n",
       "    </tr>\n",
       "    <tr>\n",
       "      <th>1</th>\n",
       "      <td>Polar Diameter:</td>\n",
       "      <td>6,752 km</td>\n",
       "    </tr>\n",
       "    <tr>\n",
       "      <th>2</th>\n",
       "      <td>Mass:</td>\n",
       "      <td>6.39 × 10^23 kg (0.11 Earths)</td>\n",
       "    </tr>\n",
       "    <tr>\n",
       "      <th>3</th>\n",
       "      <td>Moons:</td>\n",
       "      <td>2 ( Phobos &amp; Deimos )</td>\n",
       "    </tr>\n",
       "    <tr>\n",
       "      <th>4</th>\n",
       "      <td>Orbit Distance:</td>\n",
       "      <td>227,943,824 km (1.38 AU)</td>\n",
       "    </tr>\n",
       "    <tr>\n",
       "      <th>5</th>\n",
       "      <td>Orbit Period:</td>\n",
       "      <td>687 days (1.9 years)</td>\n",
       "    </tr>\n",
       "    <tr>\n",
       "      <th>6</th>\n",
       "      <td>Surface Temperature:</td>\n",
       "      <td>-87 to -5 °C</td>\n",
       "    </tr>\n",
       "    <tr>\n",
       "      <th>7</th>\n",
       "      <td>First Record:</td>\n",
       "      <td>2nd millennium BC</td>\n",
       "    </tr>\n",
       "    <tr>\n",
       "      <th>8</th>\n",
       "      <td>Recorded By:</td>\n",
       "      <td>Egyptian astronomers</td>\n",
       "    </tr>\n",
       "  </tbody>\n",
       "</table>\n",
       "</div>"
      ],
      "text/plain": [
       "                      0                              1\n",
       "0  Equatorial Diameter:                       6,792 km\n",
       "1       Polar Diameter:                       6,752 km\n",
       "2                 Mass:  6.39 × 10^23 kg (0.11 Earths)\n",
       "3                Moons:          2 ( Phobos & Deimos )\n",
       "4       Orbit Distance:       227,943,824 km (1.38 AU)\n",
       "5         Orbit Period:           687 days (1.9 years)\n",
       "6  Surface Temperature:                   -87 to -5 °C\n",
       "7         First Record:              2nd millennium BC\n",
       "8          Recorded By:           Egyptian astronomers"
      ]
     },
     "execution_count": 12,
     "metadata": {},
     "output_type": "execute_result"
    }
   ],
   "source": [
    "# Save table as a dataframe\n",
    "mars_facts_df = tables[1]\n",
    "\n",
    "mars_facts_df"
   ]
  },
  {
   "cell_type": "code",
   "execution_count": 13,
   "id": "0ddaa6a1",
   "metadata": {},
   "outputs": [
    {
     "data": {
      "text/plain": [
       "'<table border=\"1\" class=\"dataframe\">\\n  <thead>\\n    <tr style=\"text-align: right;\">\\n      <th></th>\\n      <th>0</th>\\n      <th>1</th>\\n    </tr>\\n  </thead>\\n  <tbody>\\n    <tr>\\n      <th>0</th>\\n      <td>Equatorial Diameter:</td>\\n      <td>6,792 km</td>\\n    </tr>\\n    <tr>\\n      <th>1</th>\\n      <td>Polar Diameter:</td>\\n      <td>6,752 km</td>\\n    </tr>\\n    <tr>\\n      <th>2</th>\\n      <td>Mass:</td>\\n      <td>6.39 × 10^23 kg (0.11 Earths)</td>\\n    </tr>\\n    <tr>\\n      <th>3</th>\\n      <td>Moons:</td>\\n      <td>2 ( Phobos &amp; Deimos )</td>\\n    </tr>\\n    <tr>\\n      <th>4</th>\\n      <td>Orbit Distance:</td>\\n      <td>227,943,824 km (1.38 AU)</td>\\n    </tr>\\n    <tr>\\n      <th>5</th>\\n      <td>Orbit Period:</td>\\n      <td>687 days (1.9 years)</td>\\n    </tr>\\n    <tr>\\n      <th>6</th>\\n      <td>Surface Temperature:</td>\\n      <td>-87 to -5 °C</td>\\n    </tr>\\n    <tr>\\n      <th>7</th>\\n      <td>First Record:</td>\\n      <td>2nd millennium BC</td>\\n    </tr>\\n    <tr>\\n      <th>8</th>\\n      <td>Recorded By:</td>\\n      <td>Egyptian astronomers</td>\\n    </tr>\\n  </tbody>\\n</table>'"
      ]
     },
     "execution_count": 13,
     "metadata": {},
     "output_type": "execute_result"
    }
   ],
   "source": [
    "# Create html table string from the dataframe\n",
    "mars_facts_html_table = mars_facts_df.to_html()\n",
    "\n",
    "mars_facts_html_table"
   ]
  },
  {
   "cell_type": "markdown",
   "id": "d643adb3",
   "metadata": {},
   "source": [
    "# Mars Hemispheres"
   ]
  },
  {
   "cell_type": "code",
   "execution_count": 14,
   "id": "576280fa",
   "metadata": {},
   "outputs": [],
   "source": [
    "# Initialize base mars hemispheres' url and list to hold hemiphere's names\n",
    "# and images\n",
    "mars_hemispheres_url = \"https://marshemispheres.com/\"\n",
    "browser.visit(mars_hemispheres_url)\n",
    "\n",
    "hemisphere_image_urls = []"
   ]
  },
  {
   "cell_type": "markdown",
   "id": "ebe7b8ca",
   "metadata": {},
   "source": [
    "### Cerberus"
   ]
  },
  {
   "cell_type": "code",
   "execution_count": 15,
   "id": "49f42772",
   "metadata": {},
   "outputs": [],
   "source": [
    "# Navigate to target page\n",
    "browser.links.find_by_partial_text(\"Cerberus Hemisphere Enhanced\").click()"
   ]
  },
  {
   "cell_type": "code",
   "execution_count": 16,
   "id": "ab7587de",
   "metadata": {},
   "outputs": [],
   "source": [
    "# Create soup object\n",
    "cerb_soup = bs(browser.html, \"html.parser\")"
   ]
  },
  {
   "cell_type": "code",
   "execution_count": 17,
   "id": "bb3aefb2",
   "metadata": {},
   "outputs": [],
   "source": [
    "# Scrape for the hemisphere title and image url\n",
    "cerb_title = cerb_soup.find(\"h2\", {\"class\" : \"title\"}).text\n",
    "\n",
    "cerb_image = cerb_soup.find(\"ul\")\n",
    "\n",
    "cerb_image_url = mars_hemispheres_url + cerb_image.li.a[\"href\"]"
   ]
  },
  {
   "cell_type": "code",
   "execution_count": 18,
   "id": "c62073d7",
   "metadata": {},
   "outputs": [
    {
     "data": {
      "text/plain": [
       "[{'title': 'Cerberus Hemisphere Enhanced',\n",
       "  'img_url': 'https://marshemispheres.com/images/full.jpg'}]"
      ]
     },
     "execution_count": 18,
     "metadata": {},
     "output_type": "execute_result"
    }
   ],
   "source": [
    "# Append dictionary to hemispheres list\n",
    "hemisphere_image_urls.append({\"title\": cerb_title, \"img_url\": cerb_image_url})\n",
    "\n",
    "hemisphere_image_urls"
   ]
  },
  {
   "cell_type": "markdown",
   "id": "2967acbd",
   "metadata": {},
   "source": [
    "### Schiaparelli"
   ]
  },
  {
   "cell_type": "code",
   "execution_count": 19,
   "id": "a214c3f5",
   "metadata": {},
   "outputs": [],
   "source": [
    "browser.visit(mars_hemispheres_url)"
   ]
  },
  {
   "cell_type": "code",
   "execution_count": 20,
   "id": "1b428a28",
   "metadata": {},
   "outputs": [],
   "source": [
    "browser.links.find_by_partial_text(\"Schiaparelli Hemisphere Enhanced\").click()"
   ]
  },
  {
   "cell_type": "code",
   "execution_count": 21,
   "id": "76dd63e1",
   "metadata": {},
   "outputs": [],
   "source": [
    "schi_soup = bs(browser.html, \"html.parser\")"
   ]
  },
  {
   "cell_type": "code",
   "execution_count": 22,
   "id": "c5ca967c",
   "metadata": {},
   "outputs": [],
   "source": [
    "schi_title = schi_soup.find(\"h2\", {\"class\" : \"title\"}).text\n",
    "\n",
    "schi_image = schi_soup.find(\"ul\")\n",
    "\n",
    "schi_image_url = mars_hemispheres_url + schi_image.li.a[\"href\"]"
   ]
  },
  {
   "cell_type": "code",
   "execution_count": 23,
   "id": "fc1dca94",
   "metadata": {},
   "outputs": [
    {
     "data": {
      "text/plain": [
       "[{'title': 'Cerberus Hemisphere Enhanced',\n",
       "  'img_url': 'https://marshemispheres.com/images/full.jpg'},\n",
       " {'title': 'Schiaparelli Hemisphere Enhanced',\n",
       "  'img_url': 'https://marshemispheres.com/images/schiaparelli_enhanced-full.jpg'}]"
      ]
     },
     "execution_count": 23,
     "metadata": {},
     "output_type": "execute_result"
    }
   ],
   "source": [
    "hemisphere_image_urls.append({\"title\": schi_title, \"img_url\": schi_image_url})\n",
    "hemisphere_image_urls"
   ]
  },
  {
   "cell_type": "markdown",
   "id": "69777a43",
   "metadata": {},
   "source": [
    "### Syrtis Major"
   ]
  },
  {
   "cell_type": "code",
   "execution_count": 24,
   "id": "3f7ce365",
   "metadata": {},
   "outputs": [],
   "source": [
    "browser.visit(mars_hemispheres_url)"
   ]
  },
  {
   "cell_type": "code",
   "execution_count": 25,
   "id": "83c8c127",
   "metadata": {},
   "outputs": [],
   "source": [
    "browser.links.find_by_partial_text(\"Syrtis Major Hemisphere Enhanced\").click()"
   ]
  },
  {
   "cell_type": "code",
   "execution_count": 26,
   "id": "9dac3972",
   "metadata": {},
   "outputs": [],
   "source": [
    "syrt_soup = bs(browser.html, \"html.parser\")"
   ]
  },
  {
   "cell_type": "code",
   "execution_count": 27,
   "id": "3c8bf9bc",
   "metadata": {},
   "outputs": [],
   "source": [
    "syrt_title = syrt_soup.find(\"h2\", {\"class\" : \"title\"}).text\n",
    "\n",
    "\n",
    "syrt_image = syrt_soup.find(\"ul\")\n",
    "\n",
    "\n",
    "syrt_image_url = mars_hemispheres_url + syrt_image.li.a[\"href\"]"
   ]
  },
  {
   "cell_type": "code",
   "execution_count": 28,
   "id": "098649fd",
   "metadata": {},
   "outputs": [
    {
     "data": {
      "text/plain": [
       "[{'title': 'Cerberus Hemisphere Enhanced',\n",
       "  'img_url': 'https://marshemispheres.com/images/full.jpg'},\n",
       " {'title': 'Schiaparelli Hemisphere Enhanced',\n",
       "  'img_url': 'https://marshemispheres.com/images/schiaparelli_enhanced-full.jpg'},\n",
       " {'title': 'Syrtis Major Hemisphere Enhanced',\n",
       "  'img_url': 'https://marshemispheres.com/images/syrtis_major_enhanced-full.jpg'}]"
      ]
     },
     "execution_count": 28,
     "metadata": {},
     "output_type": "execute_result"
    }
   ],
   "source": [
    "hemisphere_image_urls.append({\"title\": syrt_title, \"img_url\": syrt_image_url})\n",
    "hemisphere_image_urls"
   ]
  },
  {
   "cell_type": "markdown",
   "id": "fd0b6bb8",
   "metadata": {},
   "source": [
    "### Valles Marineris"
   ]
  },
  {
   "cell_type": "code",
   "execution_count": 29,
   "id": "abc82f9f",
   "metadata": {},
   "outputs": [],
   "source": [
    "browser.visit(mars_hemispheres_url)"
   ]
  },
  {
   "cell_type": "code",
   "execution_count": 30,
   "id": "70cf4435",
   "metadata": {},
   "outputs": [],
   "source": [
    "browser.links.find_by_partial_text(\"Valles Marineris Hemisphere Enhanced\").click()"
   ]
  },
  {
   "cell_type": "code",
   "execution_count": 31,
   "id": "803d1069",
   "metadata": {},
   "outputs": [],
   "source": [
    "vall_soup = bs(browser.html, \"html.parser\")"
   ]
  },
  {
   "cell_type": "code",
   "execution_count": 32,
   "id": "aa6fbc84",
   "metadata": {},
   "outputs": [],
   "source": [
    "vall_title = vall_soup.find(\"h2\", {\"class\" : \"title\"}).text\n",
    "\n",
    "vall_image = vall_soup.find(\"ul\")\n",
    "\n",
    "vall_image_url = mars_hemispheres_url + vall_image.li.a[\"href\"]"
   ]
  },
  {
   "cell_type": "code",
   "execution_count": 33,
   "id": "35d59c10",
   "metadata": {},
   "outputs": [
    {
     "data": {
      "text/plain": [
       "[{'title': 'Cerberus Hemisphere Enhanced',\n",
       "  'img_url': 'https://marshemispheres.com/images/full.jpg'},\n",
       " {'title': 'Schiaparelli Hemisphere Enhanced',\n",
       "  'img_url': 'https://marshemispheres.com/images/schiaparelli_enhanced-full.jpg'},\n",
       " {'title': 'Syrtis Major Hemisphere Enhanced',\n",
       "  'img_url': 'https://marshemispheres.com/images/syrtis_major_enhanced-full.jpg'},\n",
       " {'title': 'Valles Marineris Hemisphere Enhanced',\n",
       "  'img_url': 'https://marshemispheres.com/images/valles_marineris_enhanced-full.jpg'}]"
      ]
     },
     "execution_count": 33,
     "metadata": {},
     "output_type": "execute_result"
    }
   ],
   "source": [
    "hemisphere_image_urls.append({\"title\": vall_title, \"img_url\": vall_image_url})\n",
    "hemisphere_image_urls"
   ]
  },
  {
   "cell_type": "code",
   "execution_count": 34,
   "id": "85e028ab",
   "metadata": {},
   "outputs": [],
   "source": [
    "browser.quit()"
   ]
  },
  {
   "cell_type": "code",
   "execution_count": null,
   "id": "5c24cd98",
   "metadata": {},
   "outputs": [],
   "source": []
  }
 ],
 "metadata": {
  "kernelspec": {
   "display_name": "Python 3 (ipykernel)",
   "language": "python",
   "name": "python3"
  },
  "language_info": {
   "codemirror_mode": {
    "name": "ipython",
    "version": 3
   },
   "file_extension": ".py",
   "mimetype": "text/x-python",
   "name": "python",
   "nbconvert_exporter": "python",
   "pygments_lexer": "ipython3",
   "version": "3.8.13"
  }
 },
 "nbformat": 4,
 "nbformat_minor": 5
}
