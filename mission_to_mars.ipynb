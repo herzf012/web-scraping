{
 "cells": [
  {
   "cell_type": "code",
   "execution_count": 1,
   "id": "85d4232a",
   "metadata": {},
   "outputs": [],
   "source": [
    "# import dependences\n",
    "import pandas as pd\n",
    "import requests\n",
    "from splinter import Browser\n",
    "from bs4 import BeautifulSoup as bs\n",
    "from webdriver_manager.chrome import ChromeDriverManager"
   ]
  },
  {
   "cell_type": "code",
   "execution_count": 2,
   "id": "6c45d05d",
   "metadata": {},
   "outputs": [],
   "source": [
    "# Setup splinter\n",
    "executable_path = {'executable_path': ChromeDriverManager().install()}\n",
    "browser = Browser('chrome', **executable_path, headless=False)"
   ]
  },
  {
   "cell_type": "code",
   "execution_count": 3,
   "id": "583b03df",
   "metadata": {},
   "outputs": [],
   "source": [
    "# URL of page to be scraped\n",
    "url = \"https://redplanetscience.com/\"\n",
    "browser.visit(url)"
   ]
  },
  {
   "cell_type": "code",
   "execution_count": 4,
   "id": "16fb2b4f",
   "metadata": {},
   "outputs": [],
   "source": [
    "# Create a BeautifulSoup object; parse with 'html.parser'\n",
    "soup = bs(browser.html, \"html.parser\")"
   ]
  },
  {
   "cell_type": "code",
   "execution_count": 5,
   "id": "f2e729dd",
   "metadata": {},
   "outputs": [],
   "source": [
    "# Find the latest news title and it's teaser paragraph\n",
    "results = soup.find('div', {\"class\": \"list_text\"})\n",
    "\n",
    "latest_news_title = results.find(\"div\", {\"class\": \"content_title\"}).text\n",
    "\n",
    "latest_news_paragraph = results.find(\"div\", {\"class\": \"article_teaser_body\"}).text"
   ]
  },
  {
   "cell_type": "markdown",
   "id": "468db6be",
   "metadata": {},
   "source": [
    "# JPL Mars Space Images—Featured Image"
   ]
  },
  {
   "cell_type": "code",
   "execution_count": 6,
   "id": "001881e1",
   "metadata": {},
   "outputs": [],
   "source": [
    "# Select relavent page for broswer\n",
    "jpl_url = \"https://spaceimages-mars.com/\"\n",
    "browser.visit(jpl_url)"
   ]
  },
  {
   "cell_type": "code",
   "execution_count": 7,
   "id": "fef8364c",
   "metadata": {},
   "outputs": [],
   "source": [
    "# Navigate page to find full image of the featured picture\n",
    "browser.links.find_by_partial_text(\"FULL IMAGE\").click()"
   ]
  },
  {
   "cell_type": "code",
   "execution_count": 8,
   "id": "e02189cc",
   "metadata": {},
   "outputs": [],
   "source": [
    "# Retrieve html\n",
    "jpl_soup = bs(browser.html, \"html.parser\")"
   ]
  },
  {
   "cell_type": "code",
   "execution_count": 9,
   "id": "08fc49f0",
   "metadata": {},
   "outputs": [
    {
     "name": "stdout",
     "output_type": "stream",
     "text": [
      "image/featured/mars3.jpg\n"
     ]
    }
   ],
   "source": [
    "# Find full image\n",
    "jpl_results = jpl_soup.find(\"img\", {\"class\" : \"fancybox-image\"})\n",
    "print(jpl_results[\"src\"])"
   ]
  },
  {
   "cell_type": "code",
   "execution_count": 10,
   "id": "404a843b",
   "metadata": {},
   "outputs": [
    {
     "name": "stdout",
     "output_type": "stream",
     "text": [
      "https://spaceimages-mars.com/image/featured/mars3.jpg\n"
     ]
    }
   ],
   "source": [
    "# Save full image url\n",
    "featured_image_url = jpl_url + jpl_results[\"src\"]\n",
    "print(featured_image_url)"
   ]
  },
  {
   "cell_type": "markdown",
   "id": "a09f9795",
   "metadata": {},
   "source": [
    "# Mars Facts"
   ]
  },
  {
   "cell_type": "code",
   "execution_count": 11,
   "id": "f8f2a266",
   "metadata": {},
   "outputs": [],
   "source": [
    "browser.quit()"
   ]
  },
  {
   "cell_type": "code",
   "execution_count": null,
   "id": "12e85f83",
   "metadata": {},
   "outputs": [],
   "source": []
  }
 ],
 "metadata": {
  "kernelspec": {
   "display_name": "Python 3 (ipykernel)",
   "language": "python",
   "name": "python3"
  },
  "language_info": {
   "codemirror_mode": {
    "name": "ipython",
    "version": 3
   },
   "file_extension": ".py",
   "mimetype": "text/x-python",
   "name": "python",
   "nbconvert_exporter": "python",
   "pygments_lexer": "ipython3",
   "version": "3.8.13"
  }
 },
 "nbformat": 4,
 "nbformat_minor": 5
}
